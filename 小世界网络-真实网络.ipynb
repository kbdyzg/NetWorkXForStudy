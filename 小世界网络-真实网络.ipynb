{
 "cells": [
  {
   "cell_type": "code",
   "execution_count": 1,
   "metadata": {},
   "outputs": [],
   "source": [
    "import networkx as nx"
   ]
  },
  {
   "cell_type": "markdown",
   "metadata": {},
   "source": [
    "真实网络的集聚系数与度之间的依赖关系（以科学合作网络为例）"
   ]
  },
  {
   "cell_type": "code",
   "execution_count": 2,
   "metadata": {},
   "outputs": [],
   "source": [
    "def C_vs_k(G):\n",
    "    klist = [G.degree(i) for i in G.nodes()]\n",
    "    # 计算每个节点的集聚系数\n",
    "    all_C = {i: nx.clustering(G, i) for i in G.nodes()}\n",
    "    all_k = list(set(klist)) # 所有可能的度值\n",
    "\n",
    "    # 计算度值为k的节点的集聚系数的平均值\n",
    "    C_k = {}\n",
    "    for k in sorted(all_k):\n",
    "        s = 0\n",
    "        j = 0\n",
    "        for i in G.nodes():\n",
    "            if G.degree(i) == k:\n",
    "                j = j + 1\n",
    "                s = s + all_C[i]\n",
    "        avc_k = s/j\n",
    "        C_k[k] = avc_k\n",
    "    \n",
    "    return C_k"
   ]
  },
  {
   "cell_type": "code",
   "execution_count": 3,
   "metadata": {},
   "outputs": [
    {
     "data": {
      "text/plain": [
       "23133"
      ]
     },
     "execution_count": 3,
     "metadata": {},
     "output_type": "execute_result"
    }
   ],
   "source": [
    "import pandas as pd\n",
    "df = pd.read_csv(\"citation.csv\")\n",
    "G = nx.from_pandas_edgelist(df, \"source\", \"target\", create_using=nx.Graph())\n",
    "len(G.nodes())"
   ]
  },
  {
   "cell_type": "code",
   "execution_count": 4,
   "metadata": {},
   "outputs": [
    {
     "name": "stdout",
     "output_type": "stream",
     "text": [
      "0.6334130270820665\n"
     ]
    }
   ],
   "source": [
    "import numpy as np\n",
    "C_k = C_vs_k(G)\n",
    "avC = nx.average_clustering(G)\n",
    "print(avC)\n",
    "x = np.linspace(1, 10000, 10000)\n",
    "y = [avC] * 10000"
   ]
  },
  {
   "cell_type": "code",
   "execution_count": 6,
   "metadata": {},
   "outputs": [
    {
     "data": {
      "image/png": "[encoded data removed]",
      "text/plain": [
       "<Figure size 432x288 with 1 Axes>"
      ]
     },
     "metadata": {
      "needs_background": "light"
     },
     "output_type": "display_data"
    }
   ],
   "source": [
    "import matplotlib.pyplot as plt\n",
    "plt.figure(figsize=(6,4))\n",
    "plt.plot(list(C_k.keys()), list(C_k.values()), \"ro\")\n",
    "plt.plot(x, y, \"b-\")\n",
    "plt.xlabel(\"$k$\")\n",
    "plt.ylabel(\"$C(k)$\")\n",
    "plt.xscale(\"log\")\n",
    "plt.yscale(\"log\")\n",
    "plt.xlim([1, 1e4])\n",
    "plt.savefig(\"C(k)_k_citation.png\", dpi=600)"
   ]
  }
 ],
 "metadata": {
  "interpreter": {
   "hash": "07efdcd4b820c98a756949507a4d29d7862823915ec7477944641bea022f4f62"
  },
  "kernelspec": {
   "display_name": "Python 3.7.6 ('base')",
   "language": "python",
   "name": "python3"
  },
  "language_info": {
   "codemirror_mode": {
    "name": "ipython",
    "version": 3
   },
   "file_extension": ".py",
   "mimetype": "text/x-python",
   "name": "python",
   "nbconvert_exporter": "python",
   "pygments_lexer": "ipython3",
   "version": "3.7.6"
  },
  "orig_nbformat": 4
 },
 "nbformat": 4,
 "nbformat_minor": 2
}
