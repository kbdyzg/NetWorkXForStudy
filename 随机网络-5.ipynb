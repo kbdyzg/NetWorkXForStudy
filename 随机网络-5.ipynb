{
 "cells": [
  {
   "cell_type": "code",
   "execution_count": 1,
   "metadata": {},
   "outputs": [],
   "source": [
    "import networkx as nx\n",
    "import matplotlib.pyplot as plt\n",
    "import numpy as np\n",
    "import math\n",
    "from scipy import stats"
   ]
  },
  {
   "cell_type": "markdown",
   "metadata": {},
   "source": [
    "ER随机网络的结构特性"
   ]
  },
  {
   "cell_type": "code",
   "execution_count": 2,
   "metadata": {},
   "outputs": [],
   "source": [
    "# 绘制不同规模随即网络的度分布\n",
    "# 定义求度分布的函数\n",
    "def get_pdf(G, kmin, kmax):\n",
    "    k = list(range(kmin, kmax + 1)) # 获取所有可能的度值\n",
    "    N = len(G.nodes())\n",
    "\n",
    "    Pk = []\n",
    "    for ki in k:\n",
    "        c = 0\n",
    "        for i in G.nodes():\n",
    "            if G.degree(i) == ki:\n",
    "                c += 1\n",
    "        Pk.append(c/N)\n",
    "\n",
    "    return k, Pk\n"
   ]
  },
  {
   "cell_type": "code",
   "execution_count": 5,
   "metadata": {},
   "outputs": [],
   "source": [
    "samples = 100 # 统计平均\n",
    "N = [100, 1000]\n",
    "# 为了方便统计平均，指定区间[20, 80]\n",
    "kmin, kmax, avk = 20, 80, 50\n",
    "s1 = np.zeros(kmax-kmin+1)\n",
    "s2 = np.zeros(kmax-kmin+1)\n",
    "for i in range(samples):\n",
    "    ER1 = nx.gnp_random_graph(N[0], avk/N[0])\n",
    "    x1, y1 = get_pdf(ER1, kmin, kmax)\n",
    "    ER2 = nx.gnp_random_graph(N[1], avk/N[1])\n",
    "    x2, y2 = get_pdf(ER2, kmin, kmax)\n",
    "\n",
    "    s1 += np.array(y1)\n",
    "    s2 += np.array(y2)\n",
    "\n",
    "# 计算二项分布理论值\n",
    "n = 100\n",
    "p = 0.5\n",
    "k = np.arange(20, 81)\n",
    "pk_b = stats.binom.pmf(k, n, p)\n",
    "\n",
    "# 计算泊松分布的理论值\n",
    "pk_p = [np.exp(-avk)*(avk**ki)/math.factorial(ki) for ki in range(kmin, kmax+1)]\n",
    "\n"
   ]
  },
  {
   "cell_type": "code",
   "execution_count": 6,
   "metadata": {},
   "outputs": [
    {
     "data": {
      "text/plain": [
       "(20, 80)"
      ]
     },
     "execution_count": 6,
     "metadata": {},
     "output_type": "execute_result"
    },
    {
     "data": {
      "image/png": "[encoded data removed]",
      "text/plain": [
       "<Figure size 432x288 with 1 Axes>"
      ]
     },
     "metadata": {
      "needs_background": "light"
     },
     "output_type": "display_data"
    }
   ],
   "source": [
    "plt.figure(figsize=(6,4))\n",
    "plt.plot(x1, s1/samples, \"ro\", label=\"$N = 100$\")\n",
    "plt.plot(x2, s2/samples, \"bs\", label=\"$N = 1000$\")\n",
    "plt.plot(x2, pk_b, \"g-\", label=\"binomial\")\n",
    "plt.plot(x2, pk_p, \"r-\", label=\"poission\")\n",
    "plt.legend(loc=0)\n",
    "plt.xlabel(\"$k$\")\n",
    "plt.ylabel(\"$p_k$\")\n",
    "plt.xlim([20,80])"
   ]
  },
  {
   "cell_type": "markdown",
   "metadata": {},
   "source": [
    "测量绘制真实网络的度分布"
   ]
  },
  {
   "cell_type": "code",
   "execution_count": 7,
   "metadata": {},
   "outputs": [],
   "source": [
    "import pandas as pd\n",
    "from decimal import Decimal"
   ]
  },
  {
   "cell_type": "code",
   "execution_count": 8,
   "metadata": {},
   "outputs": [
    {
     "name": "stdout",
     "output_type": "stream",
     "text": [
      "192244 23133 2018\n"
     ]
    }
   ],
   "source": [
    "# 加载三个真实数据集\n",
    "df1 = pd.read_csv(\"router_internet.csv\")\n",
    "G1 = nx.from_pandas_edgelist(df1, \"source\", \"target\", create_using=nx.Graph())\n",
    "\n",
    "df2 = pd.read_csv(\"citation.csv\")\n",
    "G2 = nx.from_pandas_edgelist(df2, \"source\", \"target\", create_using=nx.Graph())\n",
    "\n",
    "df3 = pd.read_csv(\"protein_interaction.csv\")\n",
    "G3 = nx.from_pandas_edgelist(df3, \"source\", \"target\", create_using=nx.Graph())\n",
    "\n",
    "print(len(G1.nodes()), len(G2.nodes()), len(G3.nodes()))"
   ]
  },
  {
   "cell_type": "code",
   "execution_count": 9,
   "metadata": {},
   "outputs": [],
   "source": [
    "deg1 = [G1.degree(i) for i in G1.nodes()]\n",
    "kmin1, kmax1 = min(deg1), max(deg1)\n",
    "\n",
    "deg2 = [G2.degree(i) for i in G2.nodes()]\n",
    "kmin2, kmax2 = min(deg2), max(deg2)\n",
    "\n",
    "deg3 = [G3.degree(i) for i in G3.nodes()]\n",
    "kmin3, kmax3 = min(deg3), max(deg3)"
   ]
  },
  {
   "cell_type": "code",
   "execution_count": 10,
   "metadata": {},
   "outputs": [],
   "source": [
    "k1, Pk1 = get_pdf(G1, kmin1, kmax1)\n",
    "k2, Pk2 = get_pdf(G2, kmin2, kmax2)\n",
    "k3, Pk3 = get_pdf(G3, kmin3, kmax3)"
   ]
  },
  {
   "cell_type": "code",
   "execution_count": null,
   "metadata": {},
   "outputs": [],
   "source": [
    "# 绘制度分布\n",
    "avk1 = sum(deg1)/len(G1.nodes())\n",
    "avk2 = sum(deg2)/len(G2.nodes())\n",
    "avk3 = sum(deg3)/len(G3.nodes())\n",
    "\n",
    "pk_p1 = [Decimal(np.exp(-avk1))*(Decimal(avk1)**Decimal(ki))/Decimal(np.math.factorial(ki)) for ki in range(kmin, kmax+1))]"
   ]
  },
  {
   "cell_type": "code",
   "execution_count": null,
   "metadata": {},
   "outputs": [],
   "source": [
    "plt.figure(figsize=(12,4))\n",
    "plt.subplot(131)\n",
    "plt.plot(k1, Pk1, \"ro\", label=\"Internet\")\n",
    "plt.plot(list(range(kmin1, kmax1+1)), pk_p1, \"g-\", label=\"poisson\")\n",
    "plt.legend(loc=0)\n",
    "plt.xlabel(\"$k$\")\n",
    "plt.ylabel(\"$p_k$\")\n",
    "plt.ylim([1e-6,1])\n",
    "plt.xscale(\"log\")\n",
    "plt.yscale(\"log\")\n",
    "\n",
    "plt.subplot(132)\n",
    "plt.plot(k2, Pk2, \"ro\", label=\"collaboration\")\n",
    "plt.plot(list(range(kmin2, kmax2+1)), pk_p2, \"g-\", label=\"poisson\")\n",
    "plt.legend(loc=0)\n",
    "plt.xlabel(\"$k$\")\n",
    "plt.ylabel(\"$p_k$\")\n",
    "plt.ylim([1e-6,1])\n",
    "plt.xscale(\"log\")\n",
    "plt.yscale(\"log\")\n",
    "\n",
    "plt.subplot(133)\n",
    "plt.plot(k3, Pk3, \"ro\", label=\"protein\")\n",
    "plt.plot(list(range(kmin3, kmax3+1)), pk_p3, \"g-\", label=\"poisson\")\n",
    "plt.legend(loc=0)\n",
    "plt.xlabel(\"$k$\")\n",
    "plt.ylabel(\"$p_k$\")\n",
    "plt.ylim([1e-6,1])\n",
    "plt.xscale(\"log\")\n",
    "plt.yscale(\"log\")"
   ]
  },
  {
   "cell_type": "code",
   "execution_count": null,
   "metadata": {},
   "outputs": [],
   "source": []
  }
 ],
 "metadata": {
  "interpreter": {
   "hash": "07efdcd4b820c98a756949507a4d29d7862823915ec7477944641bea022f4f62"
  },
  "kernelspec": {
   "display_name": "Python 3.7.6 ('base')",
   "language": "python",
   "name": "python3"
  },
  "language_info": {
   "codemirror_mode": {
    "name": "ipython",
    "version": 3
   },
   "file_extension": ".py",
   "mimetype": "text/x-python",
   "name": "python",
   "nbconvert_exporter": "python",
   "pygments_lexer": "ipython3",
   "version": "3.7.6"
  },
  "orig_nbformat": 4
 },
 "nbformat": 4,
 "nbformat_minor": 2
}
