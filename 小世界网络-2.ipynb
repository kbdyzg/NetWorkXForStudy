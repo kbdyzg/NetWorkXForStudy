{
 "cells": [
  {
   "cell_type": "code",
   "execution_count": 1,
   "metadata": {},
   "outputs": [],
   "source": [
    "import networkx as nx\n",
    "import matplotlib.pyplot as plt\n",
    "import numpy as np"
   ]
  },
  {
   "cell_type": "code",
   "execution_count": 2,
   "metadata": {},
   "outputs": [
    {
     "data": {
      "text/plain": [
       "array([1.00000000e-04, 2.78255940e-04, 7.74263683e-04, 2.15443469e-03,\n",
       "       5.99484250e-03, 1.66810054e-02, 4.64158883e-02, 1.29154967e-01,\n",
       "       3.59381366e-01, 1.00000000e+00])"
      ]
     },
     "execution_count": 2,
     "metadata": {},
     "output_type": "execute_result"
    }
   ],
   "source": [
    "# 设置初始参数\n",
    "N, K = 1000, 10\n",
    "samples = 10\n",
    "p_rew = np.logspace(0, 4, 10)/10000\n",
    "p_rew"
   ]
  },
  {
   "cell_type": "code",
   "execution_count": 3,
   "metadata": {},
   "outputs": [],
   "source": [
    "# 平均距离与平均集聚系数\n",
    "C = []\n",
    "CT = [] # 理论近似值\n",
    "L = []\n",
    "for p in p_rew:\n",
    "    s1 = 0\n",
    "    s2 = 0\n",
    "    for i in range(samples):\n",
    "        G = nx.connected_watts_strogatz_graph(N, K, p)\n",
    "        s1 += nx.average_clustering(G)\n",
    "        s2 += nx.average_shortest_path_length(G)\n",
    "\n",
    "    ct = (3*(K-2)/(4*(K-1)))*((1-p)**3)\n",
    "    CT.append(ct)\n",
    "    C.append(s1/samples)\n",
    "    L.append(s2/samples)\n"
   ]
  },
  {
   "cell_type": "code",
   "execution_count": 33,
   "metadata": {},
   "outputs": [
    {
     "data": {
      "image/png": "[encoded data removed]",
      "text/plain": [
       "<Figure size 720x288 with 2 Axes>"
      ]
     },
     "metadata": {
      "needs_background": "light"
     },
     "output_type": "display_data"
    }
   ],
   "source": [
    "plt.figure(figsize=(10,4))\n",
    "plt.subplot(121)\n",
    "plt.plot(p_rew, C, \"ro\", label=\"$C(p)$\")\n",
    "plt.plot(p_rew, CT, \"r-\", label=\"$CT(p)$\")\n",
    "plt.legend(loc=0, fontsize=14)\n",
    "plt.xlabel(\"$p$\")\n",
    "plt.xscale(\"log\")\n",
    "\n",
    "plt.subplot(122)\n",
    "plt.plot(p_rew, L, \"bs\", label=\"$L(p)$\")\n",
    "plt.legend(loc=0, fontsize=14)\n",
    "plt.xlabel(\"$p$\")\n",
    "plt.xscale(\"log\")\n",
    "plt.yscale(\"log\")\n",
    "\n",
    "plt.savefig(\"C_L.png\", dpi=600)"
   ]
  }
 ],
 "metadata": {
  "interpreter": {
   "hash": "07efdcd4b820c98a756949507a4d29d7862823915ec7477944641bea022f4f62"
  },
  "kernelspec": {
   "display_name": "Python 3.7.6 ('base')",
   "language": "python",
   "name": "python3"
  },
  "language_info": {
   "codemirror_mode": {
    "name": "ipython",
    "version": 3
   },
   "file_extension": ".py",
   "mimetype": "text/x-python",
   "name": "python",
   "nbconvert_exporter": "python",
   "pygments_lexer": "ipython3",
   "version": "3.7.6"
  },
  "orig_nbformat": 4
 },
 "nbformat": 4,
 "nbformat_minor": 2
}
